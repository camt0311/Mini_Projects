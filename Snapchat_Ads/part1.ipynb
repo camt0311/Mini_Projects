{
 "cells": [
  {
   "cell_type": "markdown",
   "metadata": {},
   "source": [
    "# Snapchat Political Ads\n",
    "This project uses political ads data from Snapchat, a popular social media app. Interesting questions to consider include:\n",
    "- What are the most prevalent organizations, advertisers, and ballot candidates in the data? Do you recognize any?\n",
    "- What are the characteristics of ads with a large reach, i.e., many views? What may a campaign consider when maximizing an ad's reach?\n",
    "- What are the characteristics of ads with a smaller reach, i.e., less views? Aside from funding constraints, why might a campaign want to produce an ad with a smaller but more targeted reach?\n",
    "- What are the characteristics of the most expensive ads? If a campaign is limited on advertising funds, what type of ad may the campaign consider?\n",
    "- What groups or regions are targeted frequently? (For example, for single-gender campaigns, are men or women targeted more frequently?) What groups or regions are targeted less frequently? Why? Does this depend on the type of campaign?\n",
    "- Have the characteristics of ads changed over time (e.g. over the past year)?\n",
    "- When is the most common local time of day for an ad's start date? What about the most common day of week? (Make sure to account for time zones for both questions.)\n",
    "\n",
    "### Getting the Data\n",
    "The data and its corresponding data dictionary is downloadable [here](https://www.snap.com/en-US/political-ads/). Download both the 2018 CSV and the 2019 CSV. \n",
    "\n",
    "The CSVs have the same filename; rename the CSVs as needed.\n",
    "\n",
    "Note that the CSVs have the exact same columns and the exact same data dictionaries (`readme.txt`).\n",
    "\n",
    "### Cleaning and EDA\n",
    "- Concatenate the 2018 CSV and the 2019 CSV into one DataFrame so that we have data from both years.\n",
    "- Clean the data.\n",
    "    - Convert `StartDate` and `EndDate` into datetime. Make sure the datetimes are in the correct time zone. You can use whatever timezone (e.g. UTC) you want as long as you are consistent. However, if you want to answer a question like \"When is the most common local time of day for an ad's start date,\" you will need to convert timezones as needed. See Hint 2 below for more information.\n",
    "- Understand the data in ways relevant to your question using univariate and bivariate analysis of the data as well as aggregations.\n",
    "\n",
    "*Hint 1: What is the \"Z\" at the end of each timestamp?*\n",
    "\n",
    "*Hint 2: `pd.to_datetime` will be useful here. `Series.dt.tz_convert` will be useful if a change in time zone is needed.*\n",
    "\n",
    "*Tip: To visualize geospatial data, consider [Folium](https://python-visualization.github.io/folium/) or another geospatial plotting library.*\n",
    "\n",
    "### Assessment of Missingness\n",
    "Many columns which have `NaN` values may not actually have missing data. How come? In some cases, a null or empty value corresponds to an actual, meaningful value. For example, `readme.txt` states the following about `Gender`:\n",
    "\n",
    ">  Gender - Gender targeting criteria used in the Ad. If empty, then it is targeting all genders\n",
    "\n",
    "In this scenario, an empty `Gender` value (which is read in as `NaN` in pandas) corresponds to \"all genders\".\n",
    "\n",
    "- Refer to the data dictionary to determine which columns do **not** belong to the scenario above. Assess the missingness of one of these columns.\n",
    "\n",
    "### Hypothesis Test / Permutation Test\n",
    "Find a hypothesis test or permutation test to perform. You can use the questions at the top of the notebook for inspiration."
   ]
  },
  {
   "cell_type": "markdown",
   "metadata": {},
   "source": [
    "# Summary of Findings\n",
    "\n",
    "### Introduction\n",
    "I have chosen to work on the political ads data (2018 & 2019) from Snapchat, a popular social media app. What I plan to achieve in this project is to clean the data using concise and clear code, assess the missingness of data and fill those missing values based on its context. Lastly, I will perform a hypothesis test.\n",
    "\n",
    "### Cleaning and EDA\n",
    "First, I downloaded the 2018 and 2019 datasets from the Snapchat website where I would convert the Comma-Separated Values(CSV) into dataframes using pandas. Next, I concatenated the data from both years into one dataframe where we cleaned the data by changing the 'StartDate' and 'EndDate' into a consistent time zone (UTC) and a common date time in pandas.\n",
    "\n",
    "### Assessment of Missingness\n",
    "For the missingness test, I set a = 0.01 as the significance level. We looked at the segments column, which we think is not NMAR because segments end up targeting criteria used within the ad to determine other data. Using permutation tests, we found it is MAR dependent on: Spend, Impressions. Each of these was as significant as can be: a pvalue of 0 for all.\n",
    "\n",
    "### Hypothesis Test\n",
    "Is it more expensive to get ad views in the US during election years? (I would expect that ads are pricier for election years) In this case, the null hypothesis is that these observations (ad spends) are drawn from the same distribution. The alternative, is that ads are more expensive in election years. I chose a = 0.01 as the significance level (so that only extremely significant results will conclude reject)."
   ]
  },
  {
   "cell_type": "markdown",
   "metadata": {},
   "source": [
    "# Code"
   ]
  },
  {
   "cell_type": "code",
   "execution_count": 18,
   "metadata": {
    "ExecuteTime": {
     "end_time": "2019-10-31T23:36:28.652554Z",
     "start_time": "2019-10-31T23:36:27.180520Z"
    }
   },
   "outputs": [],
   "source": [
    "import matplotlib.pyplot as plt\n",
    "import numpy as np\n",
    "import os\n",
    "import pandas as pd\n",
    "import seaborn as sns\n",
    "%matplotlib inline\n",
    "%config InlineBackend.figure_format = 'retina'  # Higher resolution figures\n",
    "\n",
    "import re\n",
    "from scipy.stats import ks_2samp"
   ]
  },
  {
   "cell_type": "markdown",
   "metadata": {},
   "source": [
    "### Cleaning and EDA"
   ]
  },
  {
   "cell_type": "code",
   "execution_count": 2,
   "metadata": {},
   "outputs": [
    {
     "data": {
      "text/html": [
       "<div>\n",
       "<style scoped>\n",
       "    .dataframe tbody tr th:only-of-type {\n",
       "        vertical-align: middle;\n",
       "    }\n",
       "\n",
       "    .dataframe tbody tr th {\n",
       "        vertical-align: top;\n",
       "    }\n",
       "\n",
       "    .dataframe thead th {\n",
       "        text-align: right;\n",
       "    }\n",
       "</style>\n",
       "<table border=\"1\" class=\"dataframe\">\n",
       "  <thead>\n",
       "    <tr style=\"text-align: right;\">\n",
       "      <th></th>\n",
       "      <th>ADID</th>\n",
       "      <th>CreativeUrl</th>\n",
       "      <th>Currency Code</th>\n",
       "      <th>Spend</th>\n",
       "      <th>Impressions</th>\n",
       "      <th>StartDate</th>\n",
       "      <th>EndDate</th>\n",
       "      <th>OrganizationName</th>\n",
       "      <th>BillingAddress</th>\n",
       "      <th>CandidateBallotInformation</th>\n",
       "      <th>...</th>\n",
       "      <th>OsType</th>\n",
       "      <th>Segments</th>\n",
       "      <th>Language</th>\n",
       "      <th>AdvancedDemographics</th>\n",
       "      <th>Targeting Connection Type</th>\n",
       "      <th>Targeting Carrier (ISP)</th>\n",
       "      <th>CreativeProperties</th>\n",
       "      <th>Year</th>\n",
       "      <th>DollarPerView</th>\n",
       "      <th>Gender_Filled</th>\n",
       "    </tr>\n",
       "  </thead>\n",
       "  <tbody>\n",
       "    <tr>\n",
       "      <th>0</th>\n",
       "      <td>29cbbf5621975dbd4ffd3826f22e781ca4f41fe4cd61c5...</td>\n",
       "      <td>https://www.snap.com/political-ads/asset/d5926...</td>\n",
       "      <td>USD</td>\n",
       "      <td>148</td>\n",
       "      <td>36028</td>\n",
       "      <td>2018-11-06 12:04:28</td>\n",
       "      <td>2018-11-07 02:04:31</td>\n",
       "      <td>Friends of Jess King</td>\n",
       "      <td>US</td>\n",
       "      <td>NaN</td>\n",
       "      <td>...</td>\n",
       "      <td>NaN</td>\n",
       "      <td>Provided by Advertiser</td>\n",
       "      <td>NaN</td>\n",
       "      <td>NaN</td>\n",
       "      <td>NaN</td>\n",
       "      <td>NaN</td>\n",
       "      <td>web_view_url:https://jesskingforcongress.com/v...</td>\n",
       "      <td>2018</td>\n",
       "      <td>0.004108</td>\n",
       "      <td>BOTH</td>\n",
       "    </tr>\n",
       "    <tr>\n",
       "      <th>1</th>\n",
       "      <td>1ee35b50c5d194f4bf23196ad3645d16951439d9bfbbd2...</td>\n",
       "      <td>https://www.snap.com/political-ads/asset/fbee4...</td>\n",
       "      <td>EUR</td>\n",
       "      <td>447</td>\n",
       "      <td>339296</td>\n",
       "      <td>2018-09-28 12:59:59</td>\n",
       "      <td>2018-10-12 12:59:59</td>\n",
       "      <td>Jalt</td>\n",
       "      <td>Krom boomssloot 22-1,Amsterdam,1011GW,NL</td>\n",
       "      <td>NaN</td>\n",
       "      <td>...</td>\n",
       "      <td>NaN</td>\n",
       "      <td>Provided by Advertiser</td>\n",
       "      <td>NaN</td>\n",
       "      <td>NaN</td>\n",
       "      <td>NaN</td>\n",
       "      <td>NaN</td>\n",
       "      <td>web_view_url:https://secure.amnesty.nl/petitie...</td>\n",
       "      <td>2018</td>\n",
       "      <td>0.001317</td>\n",
       "      <td>BOTH</td>\n",
       "    </tr>\n",
       "    <tr>\n",
       "      <th>2</th>\n",
       "      <td>fabfccf0dfe9373fabe6723481ff2d0f3ce36b72d7a64e...</td>\n",
       "      <td>https://www.snap.com/political-ads/asset/c2d3a...</td>\n",
       "      <td>USD</td>\n",
       "      <td>387</td>\n",
       "      <td>101184</td>\n",
       "      <td>2018-10-01 21:05:16</td>\n",
       "      <td>NaT</td>\n",
       "      <td>Mothership Strategies</td>\n",
       "      <td>1328 Florida Avenue NW, Building C, Washington...</td>\n",
       "      <td>NaN</td>\n",
       "      <td>...</td>\n",
       "      <td>NaN</td>\n",
       "      <td>Provided by Advertiser</td>\n",
       "      <td>NaN</td>\n",
       "      <td>Spanish Speakers</td>\n",
       "      <td>NaN</td>\n",
       "      <td>NaN</td>\n",
       "      <td>web_view_url:https://register.rockthevote.com/...</td>\n",
       "      <td>2018</td>\n",
       "      <td>0.003825</td>\n",
       "      <td>BOTH</td>\n",
       "    </tr>\n",
       "    <tr>\n",
       "      <th>3</th>\n",
       "      <td>1c3df8a88ecfd08123d59e8378460d4973e9665e626550...</td>\n",
       "      <td>https://www.snap.com/political-ads/asset/953f2...</td>\n",
       "      <td>USD</td>\n",
       "      <td>971</td>\n",
       "      <td>265217</td>\n",
       "      <td>2018-09-19 17:13:42</td>\n",
       "      <td>2018-09-28 06:59:59</td>\n",
       "      <td>The Modesto Bee</td>\n",
       "      <td>948 11th Street, Suite 300,Modesto,95354,US</td>\n",
       "      <td>NaN</td>\n",
       "      <td>...</td>\n",
       "      <td>NaN</td>\n",
       "      <td>Provided by Advertiser</td>\n",
       "      <td>NaN</td>\n",
       "      <td>NaN</td>\n",
       "      <td>NaN</td>\n",
       "      <td>NaN</td>\n",
       "      <td>web_view_url:http://bit.ly/2MMlKfn</td>\n",
       "      <td>2018</td>\n",
       "      <td>0.003661</td>\n",
       "      <td>BOTH</td>\n",
       "    </tr>\n",
       "    <tr>\n",
       "      <th>4</th>\n",
       "      <td>998ce79da3f259c96b928dae99b1fef80b737b25db6a18...</td>\n",
       "      <td>https://www.snap.com/political-ads/asset/e1b1d...</td>\n",
       "      <td>USD</td>\n",
       "      <td>115</td>\n",
       "      <td>37149</td>\n",
       "      <td>2018-09-25 04:00:00</td>\n",
       "      <td>2018-09-26 03:59:59</td>\n",
       "      <td>ACRONYM</td>\n",
       "      <td>US</td>\n",
       "      <td>NaN</td>\n",
       "      <td>...</td>\n",
       "      <td>NaN</td>\n",
       "      <td>Provided by Advertiser</td>\n",
       "      <td>NaN</td>\n",
       "      <td>NaN</td>\n",
       "      <td>NaN</td>\n",
       "      <td>NaN</td>\n",
       "      <td>web_view_url:https://ourlivesourvote.com/regis...</td>\n",
       "      <td>2018</td>\n",
       "      <td>0.003096</td>\n",
       "      <td>BOTH</td>\n",
       "    </tr>\n",
       "  </tbody>\n",
       "</table>\n",
       "<p>5 rows × 37 columns</p>\n",
       "</div>"
      ],
      "text/plain": [
       "                                                ADID  \\\n",
       "0  29cbbf5621975dbd4ffd3826f22e781ca4f41fe4cd61c5...   \n",
       "1  1ee35b50c5d194f4bf23196ad3645d16951439d9bfbbd2...   \n",
       "2  fabfccf0dfe9373fabe6723481ff2d0f3ce36b72d7a64e...   \n",
       "3  1c3df8a88ecfd08123d59e8378460d4973e9665e626550...   \n",
       "4  998ce79da3f259c96b928dae99b1fef80b737b25db6a18...   \n",
       "\n",
       "                                         CreativeUrl Currency Code  Spend  \\\n",
       "0  https://www.snap.com/political-ads/asset/d5926...           USD    148   \n",
       "1  https://www.snap.com/political-ads/asset/fbee4...           EUR    447   \n",
       "2  https://www.snap.com/political-ads/asset/c2d3a...           USD    387   \n",
       "3  https://www.snap.com/political-ads/asset/953f2...           USD    971   \n",
       "4  https://www.snap.com/political-ads/asset/e1b1d...           USD    115   \n",
       "\n",
       "   Impressions           StartDate             EndDate       OrganizationName  \\\n",
       "0        36028 2018-11-06 12:04:28 2018-11-07 02:04:31   Friends of Jess King   \n",
       "1       339296 2018-09-28 12:59:59 2018-10-12 12:59:59                   Jalt   \n",
       "2       101184 2018-10-01 21:05:16                 NaT  Mothership Strategies   \n",
       "3       265217 2018-09-19 17:13:42 2018-09-28 06:59:59        The Modesto Bee   \n",
       "4        37149 2018-09-25 04:00:00 2018-09-26 03:59:59                ACRONYM   \n",
       "\n",
       "                                      BillingAddress  \\\n",
       "0                                                 US   \n",
       "1           Krom boomssloot 22-1,Amsterdam,1011GW,NL   \n",
       "2  1328 Florida Avenue NW, Building C, Washington...   \n",
       "3        948 11th Street, Suite 300,Modesto,95354,US   \n",
       "4                                                 US   \n",
       "\n",
       "  CandidateBallotInformation      ...      OsType                Segments  \\\n",
       "0                        NaN      ...         NaN  Provided by Advertiser   \n",
       "1                        NaN      ...         NaN  Provided by Advertiser   \n",
       "2                        NaN      ...         NaN  Provided by Advertiser   \n",
       "3                        NaN      ...         NaN  Provided by Advertiser   \n",
       "4                        NaN      ...         NaN  Provided by Advertiser   \n",
       "\n",
       "  Language AdvancedDemographics Targeting Connection Type  \\\n",
       "0      NaN                  NaN                       NaN   \n",
       "1      NaN                  NaN                       NaN   \n",
       "2      NaN     Spanish Speakers                       NaN   \n",
       "3      NaN                  NaN                       NaN   \n",
       "4      NaN                  NaN                       NaN   \n",
       "\n",
       "  Targeting Carrier (ISP)                                 CreativeProperties  \\\n",
       "0                     NaN  web_view_url:https://jesskingforcongress.com/v...   \n",
       "1                     NaN  web_view_url:https://secure.amnesty.nl/petitie...   \n",
       "2                     NaN  web_view_url:https://register.rockthevote.com/...   \n",
       "3                     NaN                 web_view_url:http://bit.ly/2MMlKfn   \n",
       "4                     NaN  web_view_url:https://ourlivesourvote.com/regis...   \n",
       "\n",
       "   Year DollarPerView Gender_Filled  \n",
       "0  2018      0.004108          BOTH  \n",
       "1  2018      0.001317          BOTH  \n",
       "2  2018      0.003825          BOTH  \n",
       "3  2018      0.003661          BOTH  \n",
       "4  2018      0.003096          BOTH  \n",
       "\n",
       "[5 rows x 37 columns]"
      ]
     },
     "execution_count": 2,
     "metadata": {},
     "output_type": "execute_result"
    }
   ],
   "source": [
    "# Import data\n",
    "ads_2018 = pd.read_csv('data/PoliticalAds_2018.csv')\n",
    "ads_2019 = pd.read_csv('data/PoliticalAds_2019.csv')\n",
    "\n",
    "# Assign a column to represent the year before concate\n",
    "ads_2018 = ads_2018.assign(**{\"Year\": 2018})\n",
    "ads_2019 = ads_2019.assign(**{\"Year\": 2019})\n",
    "\n",
    "# Concatenate the two dataframes\n",
    "ads = pd.concat([ads_2018, ads_2019], axis=0)\n",
    "\n",
    "# Convert StartDate and EndDate into datetime.\n",
    "ads[['StartDate', 'EndDate']] = ads[['StartDate', 'EndDate']].apply(pd.to_datetime)\n",
    "\n",
    "# Found the dollar per view of all the ads\n",
    "ads = ads.assign(**{\"DollarPerView\": ads['Spend'] / ads['Impressions']})\n",
    "\n",
    "# Impute gender column with 'BOTH' to symbolize that this ad targets both genders\n",
    "ads['Gender_Filled'] = ads['Gender'].fillna('BOTH')\n",
    "\n",
    "ads.head()"
   ]
  },
  {
   "cell_type": "code",
   "execution_count": 3,
   "metadata": {},
   "outputs": [
    {
     "data": {
      "text/html": [
       "<div>\n",
       "<style scoped>\n",
       "    .dataframe tbody tr th:only-of-type {\n",
       "        vertical-align: middle;\n",
       "    }\n",
       "\n",
       "    .dataframe tbody tr th {\n",
       "        vertical-align: top;\n",
       "    }\n",
       "\n",
       "    .dataframe thead th {\n",
       "        text-align: right;\n",
       "    }\n",
       "</style>\n",
       "<table border=\"1\" class=\"dataframe\">\n",
       "  <thead>\n",
       "    <tr style=\"text-align: right;\">\n",
       "      <th></th>\n",
       "      <th>0</th>\n",
       "    </tr>\n",
       "  </thead>\n",
       "  <tbody>\n",
       "    <tr>\n",
       "      <th>AD ID</th>\n",
       "      <td>Unique identifier for each Political Ad.</td>\n",
       "    </tr>\n",
       "    <tr>\n",
       "      <th>CreativeURL</th>\n",
       "      <td>URL link to creative content for the Ad.</td>\n",
       "    </tr>\n",
       "    <tr>\n",
       "      <th>Currency Code</th>\n",
       "      <td>The currency code set for the Ad Account and Ad.</td>\n",
       "    </tr>\n",
       "    <tr>\n",
       "      <th>Spend</th>\n",
       "      <td>Amount (In local currency) spent by the advert...</td>\n",
       "    </tr>\n",
       "    <tr>\n",
       "      <th>Impressions</th>\n",
       "      <td>Number of times the Ad has been viewed by Snap...</td>\n",
       "    </tr>\n",
       "  </tbody>\n",
       "</table>\n",
       "</div>"
      ],
      "text/plain": [
       "                                                               0\n",
       "AD ID                   Unique identifier for each Political Ad.\n",
       "CreativeURL             URL link to creative content for the Ad.\n",
       "Currency Code   The currency code set for the Ad Account and Ad.\n",
       "Spend          Amount (In local currency) spent by the advert...\n",
       "Impressions    Number of times the Ad has been viewed by Snap..."
      ]
     },
     "execution_count": 3,
     "metadata": {},
     "output_type": "execute_result"
    }
   ],
   "source": [
    "## create a dataframe of columns' description based on readme.txt \n",
    "\n",
    "myfile = open(\"data/readme.txt\")\n",
    "readme = myfile.read()\n",
    "myfile.close()\n",
    "readme = readme.replace('Geo-Postal', 'Geo Postal')\n",
    "readme = re.findall('[^\\-\\n]+\\-[^\\-\\n]+', readme)\n",
    "instruction = {}\n",
    "for col in readme[:-2]:\n",
    "    key = col.split(' - ')[0]\n",
    "    val = col.split(' - ')[1]\n",
    "    instruction[key] = val\n",
    "instruction = pd.Series(instruction).to_frame()\n",
    "instruction.head()"
   ]
  },
  {
   "cell_type": "code",
   "execution_count": 4,
   "metadata": {
    "ExecuteTime": {
     "end_time": "2019-10-31T23:36:28.657068Z",
     "start_time": "2019-10-31T23:36:28.654650Z"
    }
   },
   "outputs": [
    {
     "name": "stdout",
     "output_type": "stream",
     "text": [
      "The size of the data from 2018:  (659, 35)\n",
      "The size of the data from 2019:  (3609, 35)\n"
     ]
    }
   ],
   "source": [
    "# Basic Stats\n",
    "print(\"The size of the data from 2018: \", ads_2018.shape)\n",
    "print(\"The size of the data from 2019: \", ads_2019.shape)"
   ]
  },
  {
   "cell_type": "code",
   "execution_count": 5,
   "metadata": {},
   "outputs": [
    {
     "name": "stdout",
     "output_type": "stream",
     "text": [
      "n_unique_2018: 659\n",
      "n_unique_2019: 3609\n",
      "Ratio: 4.476479514415781\n"
     ]
    }
   ],
   "source": [
    "# Take a look at how many ads each year has.\n",
    "n_unique_2018 = ads_2018['ADID'].nunique()\n",
    "n_unique_2019 = ads_2019['ADID'].nunique()\n",
    "print(\"n_unique_2018:\", n_unique_2018)\n",
    "print(\"n_unique_2019:\", n_unique_2019)\n",
    "print(\"Ratio:\", (n_unique_2019 - n_unique_2018)/n_unique_2018)"
   ]
  },
  {
   "cell_type": "markdown",
   "metadata": {},
   "source": [
    "2019 has nearly 5 times more ads."
   ]
  },
  {
   "cell_type": "code",
   "execution_count": 6,
   "metadata": {},
   "outputs": [
    {
     "name": "stderr",
     "output_type": "stream",
     "text": [
      "/opt/conda/lib/python3.6/site-packages/pandas/plotting/_core.py:1299: MatplotlibDeprecationWarning: Support for uppercase single-letter colors is deprecated since Matplotlib 3.1 and will be removed in 3.3; please use lowercase instead.\n",
      "  return ax.barh(x, y, w, left=start, log=log, **kwds)\n"
     ]
    },
    {
     "data": {
      "image/png": "[encoded data removed]",
      "text/plain": [
       "<Figure size 432x288 with 1 Axes>"
      ]
     },
     "metadata": {
      "image/png": {
       "height": 263,
       "width": 395
      },
      "needs_background": "light"
     },
     "output_type": "display_data"
    },
    {
     "data": {
      "image/png": "[encoded data removed]",
      "text/plain": [
       "<Figure size 432x288 with 1 Axes>"
      ]
     },
     "metadata": {
      "image/png": {
       "height": 263,
       "width": 395
      },
      "needs_background": "light"
     },
     "output_type": "display_data"
    }
   ],
   "source": [
    "f1 = plt.figure(1)\n",
    "g1 = ads.groupby('Year')['Spend'].apply(np.mean).plot(kind='barh', title='Spend')\n",
    "f2 = plt.figure(2)\n",
    "g2 = ads.groupby('Year')['Impressions'].apply(np.mean).plot(kind='barh', title='Impressions', color='G')\n",
    "plt.show()"
   ]
  },
  {
   "cell_type": "markdown",
   "metadata": {},
   "source": [
    "As we can see, not only the number of ads has increased, the average money spent and impressions' degree are all increased a lot from 2018 to 2019."
   ]
  },
  {
   "cell_type": "code",
   "execution_count": 7,
   "metadata": {},
   "outputs": [
    {
     "data": {
      "text/plain": [
       "OrganizationName\n",
       "General Mills         1683056\n",
       "Assembly               802843\n",
       "Cossette Media Inc     554022\n",
       "Name: Spend, dtype: int64"
      ]
     },
     "execution_count": 7,
     "metadata": {},
     "output_type": "execute_result"
    }
   ],
   "source": [
    "ads.groupby('OrganizationName')['Spend'].sum().sort_values(ascending=False).head(3)"
   ]
  },
  {
   "cell_type": "markdown",
   "metadata": {},
   "source": [
    "The organization that had the most amount of money to spend on ads given by advertisers was General Mills."
   ]
  },
  {
   "cell_type": "code",
   "execution_count": 8,
   "metadata": {},
   "outputs": [
    {
     "data": {
      "text/plain": [
       "OrganizationName\n",
       "UnRestrict Minnesota     311\n",
       "Blueprint Interactive    248\n",
       "The Aber Group           223\n",
       "Name: ADID, dtype: int64"
      ]
     },
     "execution_count": 8,
     "metadata": {},
     "output_type": "execute_result"
    }
   ],
   "source": [
    "ads.groupby('OrganizationName')['ADID'].count().sort_values(ascending=False).head(3)"
   ]
  },
  {
   "cell_type": "markdown",
   "metadata": {},
   "source": [
    "The organization that created the most amount of snapchat ads was UnRestrict Minnesota."
   ]
  },
  {
   "cell_type": "markdown",
   "metadata": {},
   "source": [
    "Does 2019 has more ads because there are more new companies or did original companies put out more ads?\n",
    "Let's take a closer look at the OrganizationName column to check:\n",
    "1. how many companies put ads for both years; \n",
    "2. how many companies put ads in 2019 but not in 2018;\n",
    "3. which companies put most money and which companies put most ads for each year."
   ]
  },
  {
   "cell_type": "code",
   "execution_count": 9,
   "metadata": {},
   "outputs": [
    {
     "data": {
      "text/html": [
       "<div>\n",
       "<style scoped>\n",
       "    .dataframe tbody tr th:only-of-type {\n",
       "        vertical-align: middle;\n",
       "    }\n",
       "\n",
       "    .dataframe tbody tr th {\n",
       "        vertical-align: top;\n",
       "    }\n",
       "\n",
       "    .dataframe thead th {\n",
       "        text-align: right;\n",
       "    }\n",
       "</style>\n",
       "<table border=\"1\" class=\"dataframe\">\n",
       "  <thead>\n",
       "    <tr style=\"text-align: right;\">\n",
       "      <th></th>\n",
       "      <th>stats</th>\n",
       "    </tr>\n",
       "  </thead>\n",
       "  <tbody>\n",
       "    <tr>\n",
       "      <th>increase_in_new</th>\n",
       "      <td>2625</td>\n",
       "    </tr>\n",
       "    <tr>\n",
       "      <th>increase_in_both</th>\n",
       "      <td>648</td>\n",
       "    </tr>\n",
       "    <tr>\n",
       "      <th>increase_comp_num</th>\n",
       "      <td>780</td>\n",
       "    </tr>\n",
       "    <tr>\n",
       "      <th>both_comp_num</th>\n",
       "      <td>93</td>\n",
       "    </tr>\n",
       "    <tr>\n",
       "      <th>highest_2018</th>\n",
       "      <td>Bully Pulpit Interactive</td>\n",
       "    </tr>\n",
       "    <tr>\n",
       "      <th>highest_2019</th>\n",
       "      <td>UnRestrict Minnesota</td>\n",
       "    </tr>\n",
       "    <tr>\n",
       "      <th>decrease_comp_num</th>\n",
       "      <td>222</td>\n",
       "    </tr>\n",
       "    <tr>\n",
       "      <th>increase_per_comp_new</th>\n",
       "      <td>3.36538</td>\n",
       "    </tr>\n",
       "    <tr>\n",
       "      <th>increase_per_comp_both</th>\n",
       "      <td>6.96774</td>\n",
       "    </tr>\n",
       "  </tbody>\n",
       "</table>\n",
       "</div>"
      ],
      "text/plain": [
       "                                           stats\n",
       "increase_in_new                             2625\n",
       "increase_in_both                             648\n",
       "increase_comp_num                            780\n",
       "both_comp_num                                 93\n",
       "highest_2018            Bully Pulpit Interactive\n",
       "highest_2019                UnRestrict Minnesota\n",
       "decrease_comp_num                            222\n",
       "increase_per_comp_new                    3.36538\n",
       "increase_per_comp_both                   6.96774"
      ]
     },
     "execution_count": 9,
     "metadata": {},
     "output_type": "execute_result"
    }
   ],
   "source": [
    "groups = ads.groupby('Year')['OrganizationName'] # get the groups\n",
    "companies_2018 = (\n",
    "    groups.get_group(2018)\n",
    "    .value_counts().to_frame()\n",
    ") # get the companies count of 2018\n",
    "companies_2019 = (\n",
    "    groups.get_group(2019)\n",
    "    .value_counts().to_frame()\n",
    ") # get the companies count of 2019\n",
    "stats = {}\n",
    "total = companies_2018.join(companies_2019, how='outer', lsuffix='_2018', rsuffix='_2019').fillna(0) # join two\n",
    "total = total.assign(Difference=total['OrganizationName_2019'] - total['OrganizationName_2018']) # put the difference \n",
    "\n",
    "# companies in 2019 but not in 2018\n",
    "new_comp = total.loc[(total['OrganizationName_2018'] == 0) & (total['OrganizationName_2019'] != 0)]\n",
    "\n",
    "# companies in both years\n",
    "both_comp = total.loc[(total['OrganizationName_2018'] != 0) & (total['OrganizationName_2019'] != 0)]\n",
    "\n",
    "stats['increase_in_new'] = new_comp['Difference'].sum() # the increase caused by new companies\n",
    "stats['increase_in_both'] = both_comp['Difference'].sum() # the increase casued by old companies\n",
    "\n",
    "stats['increase_comp_num'] = new_comp.size # increase companies'number\n",
    "\n",
    "stats['both_comp_num'] = both_comp.size #companies for both in 2018 and 2019\n",
    "\n",
    "stats['highest_2018'] = companies_2018['OrganizationName'].idxmax() #the company which put most ads in 2018\n",
    "stats['highest_2019'] = companies_2019['OrganizationName'].idxmax() #the company which put most ads in 2019\n",
    "\n",
    "#number of companies who put ads in 2018 but not in 2019\n",
    "stats['decrease_comp_num'] = total.loc[(total['OrganizationName_2018'] != 0) & (total['OrganizationName_2019'] == 0)].size\n",
    "stats['increase_per_comp_new'] = stats['increase_in_new']/stats['increase_comp_num']\n",
    "stats['increase_per_comp_both'] = stats['increase_in_both']/stats['both_comp_num']\n",
    "\n",
    "# put all in a dataframe\n",
    "stats_df = pd.Series(stats).to_frame()\n",
    "stats_df = stats_df.rename(columns={0: 'stats'})\n",
    "stats_df"
   ]
  },
  {
   "cell_type": "markdown",
   "metadata": {},
   "source": [
    "1. The increase of ads are mainly caused by new companies.\n",
    "2. The company who put most ads in 2018 is Bully Pulpit Interactive, and the The company who put most ads in 2019 is UnRestrict Minnesota\n",
    "3. There are 684 new companies, while only 225 companies that put ads in 2018 quit in 2019"
   ]
  },
  {
   "cell_type": "markdown",
   "metadata": {},
   "source": [
    "Another question: Are ads targeted more towards females or males?"
   ]
  },
  {
   "cell_type": "code",
   "execution_count": 10,
   "metadata": {},
   "outputs": [
    {
     "name": "stderr",
     "output_type": "stream",
     "text": [
      "/opt/conda/lib/python3.6/site-packages/ipykernel_launcher.py:2: SettingWithCopyWarning: \n",
      "A value is trying to be set on a copy of a slice from a DataFrame.\n",
      "Try using .loc[row_indexer,col_indexer] = value instead\n",
      "\n",
      "See the caveats in the documentation: http://pandas.pydata.org/pandas-docs/stable/indexing.html#indexing-view-versus-copy\n",
      "  \n"
     ]
    },
    {
     "data": {
      "text/plain": [
       "([<matplotlib.axis.YTick at 0x7fd96e05abe0>,\n",
       "  <matplotlib.axis.YTick at 0x7fd96e05a4a8>],\n",
       " <a list of 2 Text yticklabel objects>)"
      ]
     },
     "execution_count": 10,
     "metadata": {},
     "output_type": "execute_result"
    },
    {
     "data": {
      "image/png": "[encoded data removed]",
      "text/plain": [
       "<Figure size 432x288 with 1 Axes>"
      ]
     },
     "metadata": {
      "image/png": {
       "height": 265,
       "width": 406
      },
      "needs_background": "light"
     },
     "output_type": "display_data"
    }
   ],
   "source": [
    "bivariate = ads[[\"Gender\", \"Impressions\"]]\n",
    "bivariate[\"Gender\"] = bivariate[\"Gender\"].fillna(\"BOTH\") # Nan means for both genders\n",
    "\n",
    "male_imp = bivariate[bivariate[\"Gender\"] == \"MALE\"].set_index(\"Gender\") # 92 rows\n",
    "female_imp = bivariate[bivariate[\"Gender\"] == \"FEMALE\"].set_index(\"Gender\") # 293 rows\n",
    "\n",
    "gend_imp = [male_imp.values, female_imp.values]\n",
    "\n",
    "my_pal = {0: \"b\", 1: \"r\"}\n",
    "plot = sns.boxplot(data = gend_imp, orient = \"h\", showfliers=False, palette=my_pal)\n",
    "plot.set(xlabel='Impressions',ylabel='Gender')\n",
    "plt.yticks(plt.yticks()[0], [\"Male\", \"Female\"])"
   ]
  },
  {
   "cell_type": "markdown",
   "metadata": {},
   "source": [
    "### Assessment of Missingness"
   ]
  },
  {
   "cell_type": "markdown",
   "metadata": {},
   "source": [
    "Let's see if Segments is MAR dependent on Spend.\n",
    "For the sake of ease, assume a significance level of a = 0.01"
   ]
  },
  {
   "cell_type": "code",
   "execution_count": 11,
   "metadata": {},
   "outputs": [
    {
     "data": {
      "text/plain": [
       "{'ADID': 1.0,\n",
       " 'CreativeUrl': 1.0,\n",
       " 'Currency Code': 1.0,\n",
       " 'Spend': 1.0,\n",
       " 'Impressions': 1.0,\n",
       " 'StartDate': 1.0,\n",
       " 'EndDate': 0.8179475164011246,\n",
       " 'OrganizationName': 1.0,\n",
       " 'BillingAddress': 1.0,\n",
       " 'CandidateBallotInformation': 0.13355201499531397,\n",
       " 'PayingAdvertiserName': 1.0,\n",
       " 'Gender': 0.09020618556701031,\n",
       " 'AgeBracket': 0.9172914714151827,\n",
       " 'CountryCode': 1.0,\n",
       " 'Regions (Included)': 0.2757731958762887,\n",
       " 'Regions (Excluded)': 0.010543580131208997,\n",
       " 'Electoral Districts (Included)': 0.015229615745079663,\n",
       " 'Electoral Districts (Excluded)': 0.0,\n",
       " 'Radius Targeting (Included)': 0.07169634489222118,\n",
       " 'Radius Targeting (Excluded)': 0.0028116213683223993,\n",
       " 'Metros (Included)': 0.041237113402061855,\n",
       " 'Metros (Excluded)': 0.003983130271790066,\n",
       " 'Postal Codes (Included)': 0.19751640112464855,\n",
       " 'Postal Codes (Excluded)': 0.027413308341143392,\n",
       " 'Location Categories (Included)': 0.0037488284910965324,\n",
       " 'Location Categories (Excluded)': 0.00046860356138706655,\n",
       " 'Interests': 0.2563261480787254,\n",
       " 'OsType': 0.006091846298031865,\n",
       " 'Segments': 0.7064198687910028,\n",
       " 'Language': 0.2706185567010309,\n",
       " 'AdvancedDemographics': 0.025538894095595125,\n",
       " 'Targeting Connection Type': 0.0,\n",
       " 'Targeting Carrier (ISP)': 0.0,\n",
       " 'CreativeProperties': 0.8266166822867854,\n",
       " 'Year': 1.0,\n",
       " 'DollarPerView': 1.0,\n",
       " 'Gender_Filled': 1.0}"
      ]
     },
     "execution_count": 11,
     "metadata": {},
     "output_type": "execute_result"
    }
   ],
   "source": [
    "props = {}\n",
    "#Iterate through columns\n",
    "for col in ads.columns:\n",
    "    #Find the total length of the column\n",
    "    tot = len(ads[col])\n",
    "    #Find the number of non-null values\n",
    "    non_null = len(ads[col].dropna())\n",
    "    #Calculate the proportion of non-nulls & put it in a dic for later use\n",
    "    props[col] = (non_null / tot)\n",
    "props\n",
    "#This is the proportion of non-null values for each column"
   ]
  },
  {
   "cell_type": "code",
   "execution_count": 12,
   "metadata": {},
   "outputs": [
    {
     "data": {
      "image/png": "[encoded data removed]",
      "text/plain": [
       "<Figure size 432x288 with 1 Axes>"
      ]
     },
     "metadata": {
      "image/png": {
       "height": 263,
       "width": 382
      },
      "needs_background": "light"
     },
     "output_type": "display_data"
    }
   ],
   "source": [
    "# This makes a column with booleans corresponding to the missingess of Segments, True if nan. I also select only \n",
    "#columns that will be used in the test, reducing the compuational load. This will be done for all subsequent tests\n",
    "mdf = ads.assign(**{\"SegMissing\": ads[\"Segments\"].isnull()})[[\"Spend\", \"SegMissing\"]]\n",
    "#Calculate the observed ks\n",
    "obsks, _ = ks_2samp(\n",
    "    mdf.loc[mdf['SegMissing'], 'Spend'],\n",
    "    mdf.loc[~mdf['SegMissing'], 'Spend']\n",
    ")\n",
    "n_repetitions = 500\n",
    "kslist = []\n",
    "for _ in range(n_repetitions):\n",
    "    \n",
    "    # shuffle the Spend\n",
    "    shuffled_spend = (\n",
    "        mdf['Spend']\n",
    "        .sample(replace=False, frac=1)\n",
    "        .reset_index(drop=True)\n",
    "    )\n",
    "    # Throw it into a df\n",
    "    shuffled = (\n",
    "        mdf\n",
    "        .assign(**{'ShuffledSpend': shuffled_spend})\n",
    "    )\n",
    "    #compute test stat\n",
    "    ks, _ = ks_2samp(\n",
    "        shuffled.loc[shuffled['SegMissing'], 'ShuffledSpend'],\n",
    "        shuffled.loc[~shuffled['SegMissing'], 'ShuffledSpend']\n",
    "    )\n",
    "    # add it to the list of results\n",
    "    kslist.append(ks)\n",
    "#Visualize the results\n",
    "pd.Series(kslist).plot(kind='hist', density=True, alpha=0.8, title = \"Conclusion of SegMissing on Spend\")\n",
    "plt.scatter(obsks, 0, color='red', s=40);"
   ]
  },
  {
   "cell_type": "markdown",
   "metadata": {},
   "source": [
    "This permutation test tells us that segments are MAR dependent on Spend. Next, we will use the difference of means to determine whether Segments is MAR dependent on Impression."
   ]
  },
  {
   "cell_type": "code",
   "execution_count": 13,
   "metadata": {},
   "outputs": [
    {
     "data": {
      "image/png": "[encoded data removed]",
      "text/plain": [
       "<Figure size 432x288 with 1 Axes>"
      ]
     },
     "metadata": {
      "image/png": {
       "height": 263,
       "width": 382
      },
      "needs_background": "light"
     },
     "output_type": "display_data"
    }
   ],
   "source": [
    "mdf = ads.assign(**{\"SegMissing\": ads[\"Segments\"].isnull()})[[\"Impressions\", \"SegMissing\"]]\n",
    "#Calculate the observed ks\n",
    "obsks, _ = ks_2samp(\n",
    "    mdf.loc[mdf['SegMissing'], 'Impressions'],\n",
    "    mdf.loc[~mdf['SegMissing'], 'Impressions']\n",
    ")\n",
    "n_repetitions = 500\n",
    "kslist = []\n",
    "for _ in range(n_repetitions):\n",
    "    \n",
    "    # shuffle the Impressions\n",
    "    shuffled_imp = (\n",
    "        mdf['Impressions']\n",
    "        .sample(replace=False, frac=1)\n",
    "        .reset_index(drop=True)\n",
    "    )\n",
    "    \n",
    "    # Throw it into a df\n",
    "    shuffled = (\n",
    "        mdf\n",
    "        .assign(**{'ShuffledImpressions': shuffled_imp})\n",
    "    )\n",
    "    #compute test stat\n",
    "    ks, _ = ks_2samp(\n",
    "        shuffled.loc[shuffled['SegMissing'], 'ShuffledImpressions'],\n",
    "        shuffled.loc[~shuffled['SegMissing'], 'ShuffledImpressions']\n",
    "    )\n",
    "    # add it to the list of results\n",
    "    kslist.append(ks)\n",
    "#Visualize the results\n",
    "pd.Series(kslist).plot(kind='hist', density=True, alpha=0.8, title = \"Conclusion of SegMissing on Impressions\")\n",
    "plt.scatter(obsks, 0, color='red', s=40);"
   ]
  },
  {
   "cell_type": "markdown",
   "metadata": {},
   "source": [
    "This tells us that segments are MAR dependent on Impressions."
   ]
  },
  {
   "cell_type": "markdown",
   "metadata": {},
   "source": [
    "### Hypothesis Test"
   ]
  },
  {
   "cell_type": "markdown",
   "metadata": {},
   "source": [
    "For the sake of ease, assume a significance level of a = 0.01\n",
    "\n",
    "For our hypothesis test, we are looking within the US across years to determine whether or not the cost of spending per view varies between midterm election years versus nonelection years. In this case, the null hypothesis is that these observations (ad spends) are drawn from the same distribution. The alternative, that they are not."
   ]
  },
  {
   "cell_type": "code",
   "execution_count": 16,
   "metadata": {},
   "outputs": [
    {
     "ename": "NameError",
     "evalue": "name 'pycountry' is not defined",
     "output_type": "error",
     "traceback": [
      "\u001b[0;31m---------------------------------------------------------------------------\u001b[0m",
      "\u001b[0;31mNameError\u001b[0m                                 Traceback (most recent call last)",
      "\u001b[0;32m<ipython-input-16-b6e8aab41533>\u001b[0m in \u001b[0;36m<module>\u001b[0;34m\u001b[0m\n\u001b[1;32m      1\u001b[0m \u001b[0mads\u001b[0m \u001b[0;34m=\u001b[0m \u001b[0mads\u001b[0m\u001b[0;34m.\u001b[0m\u001b[0massign\u001b[0m\u001b[0;34m(\u001b[0m\u001b[0;34m**\u001b[0m\u001b[0;34m{\u001b[0m\u001b[0;34m\"Country\"\u001b[0m\u001b[0;34m:\u001b[0m \u001b[0mads\u001b[0m\u001b[0;34m[\u001b[0m\u001b[0;34m'BillingAddress'\u001b[0m\u001b[0;34m]\u001b[0m\u001b[0;34m.\u001b[0m\u001b[0mapply\u001b[0m\u001b[0;34m(\u001b[0m\u001b[0;32mlambda\u001b[0m \u001b[0mx\u001b[0m\u001b[0;34m:\u001b[0m \u001b[0mx\u001b[0m\u001b[0;34m[\u001b[0m\u001b[0;34m-\u001b[0m\u001b[0;36m2\u001b[0m\u001b[0;34m:\u001b[0m\u001b[0;34m]\u001b[0m\u001b[0;34m)\u001b[0m\u001b[0;34m}\u001b[0m\u001b[0;34m)\u001b[0m\u001b[0;34m\u001b[0m\u001b[0;34m\u001b[0m\u001b[0m\n\u001b[1;32m      2\u001b[0m \u001b[0;34m\u001b[0m\u001b[0m\n\u001b[0;32m----> 3\u001b[0;31m \u001b[0mads\u001b[0m \u001b[0;34m=\u001b[0m \u001b[0mads\u001b[0m\u001b[0;34m.\u001b[0m\u001b[0massign\u001b[0m\u001b[0;34m(\u001b[0m\u001b[0;34m**\u001b[0m\u001b[0;34m{\u001b[0m\u001b[0;34m\"Country\"\u001b[0m\u001b[0;34m:\u001b[0m \u001b[0mads\u001b[0m\u001b[0;34m[\u001b[0m\u001b[0;34m\"CountryCode\"\u001b[0m\u001b[0;34m]\u001b[0m\u001b[0;34m.\u001b[0m\u001b[0mapply\u001b[0m\u001b[0;34m(\u001b[0m\u001b[0;32mlambda\u001b[0m \u001b[0mx\u001b[0m\u001b[0;34m:\u001b[0m \u001b[0mpycountry\u001b[0m\u001b[0;34m.\u001b[0m\u001b[0mcountries\u001b[0m\u001b[0;34m.\u001b[0m\u001b[0mget\u001b[0m\u001b[0;34m(\u001b[0m\u001b[0malpha_2\u001b[0m\u001b[0;34m=\u001b[0m\u001b[0mx\u001b[0m\u001b[0;34m)\u001b[0m\u001b[0;34m.\u001b[0m\u001b[0mname\u001b[0m\u001b[0;34m.\u001b[0m\u001b[0mlower\u001b[0m\u001b[0;34m(\u001b[0m\u001b[0;34m)\u001b[0m\u001b[0;34m)\u001b[0m\u001b[0;34m}\u001b[0m\u001b[0;34m)\u001b[0m\u001b[0;34m\u001b[0m\u001b[0;34m\u001b[0m\u001b[0m\n\u001b[0m\u001b[1;32m      4\u001b[0m \u001b[0;31m#This line turns the country code (ie US) to the lower case name of the associated country (ie united states)\u001b[0m\u001b[0;34m\u001b[0m\u001b[0;34m\u001b[0m\u001b[0;34m\u001b[0m\u001b[0m\n\u001b[1;32m      5\u001b[0m \u001b[0;34m\u001b[0m\u001b[0m\n",
      "\u001b[0;32m/opt/conda/lib/python3.6/site-packages/pandas/core/series.py\u001b[0m in \u001b[0;36mapply\u001b[0;34m(self, func, convert_dtype, args, **kwds)\u001b[0m\n\u001b[1;32m   3192\u001b[0m             \u001b[0;32melse\u001b[0m\u001b[0;34m:\u001b[0m\u001b[0;34m\u001b[0m\u001b[0;34m\u001b[0m\u001b[0m\n\u001b[1;32m   3193\u001b[0m                 \u001b[0mvalues\u001b[0m \u001b[0;34m=\u001b[0m \u001b[0mself\u001b[0m\u001b[0;34m.\u001b[0m\u001b[0mastype\u001b[0m\u001b[0;34m(\u001b[0m\u001b[0mobject\u001b[0m\u001b[0;34m)\u001b[0m\u001b[0;34m.\u001b[0m\u001b[0mvalues\u001b[0m\u001b[0;34m\u001b[0m\u001b[0;34m\u001b[0m\u001b[0m\n\u001b[0;32m-> 3194\u001b[0;31m                 \u001b[0mmapped\u001b[0m \u001b[0;34m=\u001b[0m \u001b[0mlib\u001b[0m\u001b[0;34m.\u001b[0m\u001b[0mmap_infer\u001b[0m\u001b[0;34m(\u001b[0m\u001b[0mvalues\u001b[0m\u001b[0;34m,\u001b[0m \u001b[0mf\u001b[0m\u001b[0;34m,\u001b[0m \u001b[0mconvert\u001b[0m\u001b[0;34m=\u001b[0m\u001b[0mconvert_dtype\u001b[0m\u001b[0;34m)\u001b[0m\u001b[0;34m\u001b[0m\u001b[0;34m\u001b[0m\u001b[0m\n\u001b[0m\u001b[1;32m   3195\u001b[0m \u001b[0;34m\u001b[0m\u001b[0m\n\u001b[1;32m   3196\u001b[0m         \u001b[0;32mif\u001b[0m \u001b[0mlen\u001b[0m\u001b[0;34m(\u001b[0m\u001b[0mmapped\u001b[0m\u001b[0;34m)\u001b[0m \u001b[0;32mand\u001b[0m \u001b[0misinstance\u001b[0m\u001b[0;34m(\u001b[0m\u001b[0mmapped\u001b[0m\u001b[0;34m[\u001b[0m\u001b[0;36m0\u001b[0m\u001b[0;34m]\u001b[0m\u001b[0;34m,\u001b[0m \u001b[0mSeries\u001b[0m\u001b[0;34m)\u001b[0m\u001b[0;34m:\u001b[0m\u001b[0;34m\u001b[0m\u001b[0;34m\u001b[0m\u001b[0m\n",
      "\u001b[0;32mpandas/_libs/src/inference.pyx\u001b[0m in \u001b[0;36mpandas._libs.lib.map_infer\u001b[0;34m()\u001b[0m\n",
      "\u001b[0;32m<ipython-input-16-b6e8aab41533>\u001b[0m in \u001b[0;36m<lambda>\u001b[0;34m(x)\u001b[0m\n\u001b[1;32m      1\u001b[0m \u001b[0mads\u001b[0m \u001b[0;34m=\u001b[0m \u001b[0mads\u001b[0m\u001b[0;34m.\u001b[0m\u001b[0massign\u001b[0m\u001b[0;34m(\u001b[0m\u001b[0;34m**\u001b[0m\u001b[0;34m{\u001b[0m\u001b[0;34m\"Country\"\u001b[0m\u001b[0;34m:\u001b[0m \u001b[0mads\u001b[0m\u001b[0;34m[\u001b[0m\u001b[0;34m'BillingAddress'\u001b[0m\u001b[0;34m]\u001b[0m\u001b[0;34m.\u001b[0m\u001b[0mapply\u001b[0m\u001b[0;34m(\u001b[0m\u001b[0;32mlambda\u001b[0m \u001b[0mx\u001b[0m\u001b[0;34m:\u001b[0m \u001b[0mx\u001b[0m\u001b[0;34m[\u001b[0m\u001b[0;34m-\u001b[0m\u001b[0;36m2\u001b[0m\u001b[0;34m:\u001b[0m\u001b[0;34m]\u001b[0m\u001b[0;34m)\u001b[0m\u001b[0;34m}\u001b[0m\u001b[0;34m)\u001b[0m\u001b[0;34m\u001b[0m\u001b[0;34m\u001b[0m\u001b[0m\n\u001b[1;32m      2\u001b[0m \u001b[0;34m\u001b[0m\u001b[0m\n\u001b[0;32m----> 3\u001b[0;31m \u001b[0mads\u001b[0m \u001b[0;34m=\u001b[0m \u001b[0mads\u001b[0m\u001b[0;34m.\u001b[0m\u001b[0massign\u001b[0m\u001b[0;34m(\u001b[0m\u001b[0;34m**\u001b[0m\u001b[0;34m{\u001b[0m\u001b[0;34m\"Country\"\u001b[0m\u001b[0;34m:\u001b[0m \u001b[0mads\u001b[0m\u001b[0;34m[\u001b[0m\u001b[0;34m\"CountryCode\"\u001b[0m\u001b[0;34m]\u001b[0m\u001b[0;34m.\u001b[0m\u001b[0mapply\u001b[0m\u001b[0;34m(\u001b[0m\u001b[0;32mlambda\u001b[0m \u001b[0mx\u001b[0m\u001b[0;34m:\u001b[0m \u001b[0mpycountry\u001b[0m\u001b[0;34m.\u001b[0m\u001b[0mcountries\u001b[0m\u001b[0;34m.\u001b[0m\u001b[0mget\u001b[0m\u001b[0;34m(\u001b[0m\u001b[0malpha_2\u001b[0m\u001b[0;34m=\u001b[0m\u001b[0mx\u001b[0m\u001b[0;34m)\u001b[0m\u001b[0;34m.\u001b[0m\u001b[0mname\u001b[0m\u001b[0;34m.\u001b[0m\u001b[0mlower\u001b[0m\u001b[0;34m(\u001b[0m\u001b[0;34m)\u001b[0m\u001b[0;34m)\u001b[0m\u001b[0;34m}\u001b[0m\u001b[0;34m)\u001b[0m\u001b[0;34m\u001b[0m\u001b[0;34m\u001b[0m\u001b[0m\n\u001b[0m\u001b[1;32m      4\u001b[0m \u001b[0;31m#This line turns the country code (ie US) to the lower case name of the associated country (ie united states)\u001b[0m\u001b[0;34m\u001b[0m\u001b[0;34m\u001b[0m\u001b[0;34m\u001b[0m\u001b[0m\n\u001b[1;32m      5\u001b[0m \u001b[0;34m\u001b[0m\u001b[0m\n",
      "\u001b[0;31mNameError\u001b[0m: name 'pycountry' is not defined"
     ]
    }
   ],
   "source": [
    "ads = ads.assign(**{\"Country\": ads['BillingAddress'].apply(lambda x: x[-2:])})\n",
    "\n",
    "ads = ads.assign(**{\"Country\": ads[\"CountryCode\"].apply(lambda x: pycountry.countries.get(alpha_2=x).name.lower())})\n",
    "#This line turns the country code (ie US) to the lower case name of the associated country (ie united states)\n",
    "\n",
    "us_df = ads.query(\"Country == 'US'\")\n",
    "#Limit the dataframe to the US\n",
    "us_df = us_df.assign(**{\"ElectionYear\":us_df[\"Year\"].apply(lambda x: True if x == 18 else False)})\n",
    "#Assign booleans to whether or not it was a national election year"
   ]
  },
  {
   "cell_type": "code",
   "execution_count": null,
   "metadata": {},
   "outputs": [],
   "source": []
  }
 ],
 "metadata": {
  "kernelspec": {
   "display_name": "Python 3",
   "language": "python",
   "name": "python3"
  },
  "language_info": {
   "codemirror_mode": {
    "name": "ipython",
    "version": 3
   },
   "file_extension": ".py",
   "mimetype": "text/x-python",
   "name": "python",
   "nbconvert_exporter": "python",
   "pygments_lexer": "ipython3",
   "version": "3.7.6"
  }
 },
 "nbformat": 4,
 "nbformat_minor": 2
}
